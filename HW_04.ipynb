{
 "cells": [
  {
   "cell_type": "markdown",
   "metadata": {
    "id": "YWb8195s8HJz"
   },
   "source": [
    "# Homework Week 4\n",
    "\n",
    "### Context\n",
    "- Preprocessing\n",
    "- Classification & Regression Model\n",
    "- Cross Validation + OOF Ensemble\n",
    "- Submit"
   ]
  },
  {
   "cell_type": "markdown",
   "metadata": {
    "id": "_ZltNAb-8HJ0"
   },
   "source": [
    "#### 프로젝트 안내 사항\n",
    "- 매 주차마다 주어지는 요구사항에 맞게 과제를 진행하시다보면, 어느샌가 완성되어 있는 프로젝트 코드를 마주보게 되실겁니다.\n",
    "- 또한, 팀을 꾸려 서로 의견을 공유하고 좋은 결과를 얻고 싶은 수강생들에 한해 프로젝트 팀을 최대 3인으로 꾸리는 것을 도와드리겠습니다. \n",
    "    - 과제는 개인별로 작성하셔야하고 피드백도 개인으로 해드릴 예정입니다. 프로젝트 팀은 서로 다른 의견을 공유하고 실제 경진대회 진행 시 협업하는 능력을 기르기 위함입니다. \n",
    "    - 팀을 꾸리지 않는다고 수강 시에 배우는 부분에 대해 불이익이 생기지 않도록 최대한 노력하겠습니다. 수강생 분들도 적극적으로 참여 부탁드리겠습니다.\n",
    "    - 질문은 반드시 저에게 해주세요. 팀이라고 서로 이끌고 가야할 의무는 없습니다.\n",
    "- 단순히 요구된 사항을 작성하는 것이 아니라, 기존 대회 페이지에 공개되어있는 아이디어 혹은 코드를 가져와 이해하고 실제로 구현해보길 추천드립니다. 내용이 어렵거나 구현이 어려운 경우 도움 요청 부탁드립니다. <br> 대회는 혼자하는것이 아닙니다. 팀 혹은 같은 대회에 참가하고 있는 인원들끼리 토론을 통해 정보를 주고 받습니다.\n",
    "- 어떤 전처리 방법 혹은 기법을 사용할 때 하는 것이 좋을지에 대한 질문보다는 직접 실험을 해보고, 결과에 대해 분석을 진행해보세요. 분석된 결과에 대해 의문이 생기는 경우에 질문하는 것이 더 많이 배울 수 있습니다.\n",
    "- 개인적으로 공부는 자기 자신이 해야한다고 생각합니다. 제가 전달해드리는 것만 받아들이기 보다는 여러 기법을 실험해보고 의문을 가지며, 스스로 내가 무엇을 알고 무엇을 모르는지 깨닫는 것이 중요합니다.\n",
    "\n",
    "#### 과제 제약사항\n",
    "Numpy, Pandas, Scikit-learn 함수 및 사용법 대한 질문을 받지 않겠습니다. 실제로 대회나 현업에서 프로젝트를 진행하다보면 검색 혹은 라이브러리의 문서를 보면서 진행합니다.<br>\n",
    "처음에는 함수의 종류를 찾거나 사용법을 찾는일이 어려울 수 있지만, 익숙해지셔야 하는 부분이기 때문에 이러한 제약을 걸게 되었습니다. 검색을 어떤 키워드로 해야할지 모를 경우에는 도와드리겠습니다.<br>\n",
    "질문을 전혀 받지 않겠다는 의미가 아닙니다. 단일 함수 종류 및 사용법에 대한 질문을 받지 않겠다 라는 의미입니다. 프로젝트 진행 시 필요한 기능을 스스로 찾을 수 있도록 훈련하는 과정입니다.\n",
    "\n",
    "#### 참고 자료\n",
    "- Numpy Documentation: https://numpy.org/doc/stable/\n",
    "- Pandas Documentation: https://pandas.pydata.org/docs/reference/index.html\n",
    "- Scikit-learn Documentation: https://scikit-learn.org/stable/user_guide.html"
   ]
  },
  {
   "cell_type": "markdown",
   "metadata": {
    "id": "3sR6ct6u8HJ1"
   },
   "source": [
    "### 과제 설명\n",
    "- 2, 3주차 과제로 진행한 분류, 회귀 프로젝트 코드에 k-Fold Cross Validation, OOF Ensemble 까지 적용해보는것이 이번 과제의 목표입니다.\n",
    "    - 수강생 분께서 작성하신 코드에 이어서 작성하시면 됩니다. 물론 피드백 받은 내용 및 과제 리뷰 강의 코드를 참고하여 작성하셨던 과제 코드를 깔끔하게 수정하시고, 진행하시기 바랍니다.\n",
    "- 이번 과제에서는 XGBoost, LightGBM 2개 모델만 사용합니다. 가능하다면 코랩 환경에서 GPU로 연산하여 모든 데이터를 학습해보세요. \n",
    "    - GPU를 사용하실 수 있다면, XGBoost와 LightGBM의 기능 중 하나인 Early Stopping 기능도 활용해보세요. LightGBM도 완전히 동일하니 모델 이름만 변경해서 사용하시면 됩니다.\n",
    "    \n",
    "    \n",
    "        예제 코드)\n",
    "        model = XGBClassifier(n_estimators=20000,     # Early Stopping 기능을 사용하기 때문에 높게 줍니다.\n",
    "                              random_state= ,         # 원하는 숫자 넣으세요.\n",
    "                              tree_method='gpu_hist', # GPU 연산 옵션\n",
    "                              n_jobs= ,               # CPU 개수 - 1로 입력하세요.\n",
    "                              )\n",
    "        model.fit(x_train, y_train,\n",
    "                  eval_set = [[x_valid, y_valid]], # eval_metric으로 평가할 평가 데이터 입니다.\n",
    "                  eval_metric = ,                  # 평가에 맞는 메트릭 함수 ex) log_loss, f1_score (주의 괄호 치지 말고 넣으세요, log_loss()[x] log_loss [o])\n",
    "                  early_stopping_rounds = ,        # 얼마나 기다릴지에 대한 횟수, 주로 500, 1000 정도합니다.\n",
    "                  verbose = 100,                   # 100번에 한번 씩 결과를 출력해줍니다.\n",
    "                  )\n",
    "                  \n",
    "- 가능한 가장 깔끔한 코드로 작성해보세요. \n",
    "\n",
    "## 월간 데이콘 2회 (분류, 2주차 과제 ~ )\n",
    "\n",
    "#### 사용할 데이터 경로\n",
    "1. data/MDC02/..."
   ]
  },
  {
   "cell_type": "code",
   "execution_count": null,
   "metadata": {
    "colab": {
     "base_uri": "https://localhost:8080/",
     "height": 35
    },
    "executionInfo": {
     "elapsed": 35769,
     "status": "ok",
     "timestamp": 1601098146660,
     "user": {
      "displayName": "강천성",
      "photoUrl": "https://lh3.googleusercontent.com/a-/AOh14Gj9h7jy2JWinqHgWl1L0Kch2BjrDvQN5LwdzDMxIw=s64",
      "userId": "18012903892325475989"
     },
     "user_tz": -540
    },
    "id": "i3UqSX9yz8FS",
    "outputId": "f84ce0a5-6847-45bf-be9e-c4f1f0a68849"
   },
   "outputs": [
    {
     "name": "stdout",
     "output_type": "stream",
     "text": [
      "Mounted at /content/drive/\n"
     ]
    }
   ],
   "source": [
    "from google.colab import drive\n",
    "drive.mount('/content/drive/')"
   ]
  },
  {
   "cell_type": "code",
   "execution_count": null,
   "metadata": {
    "id": "C7wadlMkz4qJ"
   },
   "outputs": [],
   "source": [
    "import warnings\n",
    "\n",
    "warnings.filterwarnings(action='ignore')\n",
    "\n",
    "from os.path import join\n",
    "import pandas as pd\n",
    "import numpy  as np\n",
    "\n",
    "# 주석 해제 후 진행하시면 됩니다.\n",
    "data = pd.read_csv(join('/content/drive/My Drive/[2020_08]LearningSpoons_ML/data', join('MDC02', 'train.csv')))\n",
    "test = pd.read_csv(join('/content/drive/My Drive/[2020_08]LearningSpoons_ML/data', join('MDC02', 'test.csv')))\n",
    "\n",
    "label = data['type']\n",
    "\n",
    "data.drop(columns=['id', 'type'], inplace=True)\n",
    "test.drop(columns=['id'], inplace=True)"
   ]
  },
  {
   "cell_type": "code",
   "execution_count": null,
   "metadata": {
    "colab": {
     "base_uri": "https://localhost:8080/",
     "height": 145
    },
    "executionInfo": {
     "elapsed": 690,
     "status": "ok",
     "timestamp": 1601098191616,
     "user": {
      "displayName": "강천성",
      "photoUrl": "https://lh3.googleusercontent.com/a-/AOh14Gj9h7jy2JWinqHgWl1L0Kch2BjrDvQN5LwdzDMxIw=s64",
      "userId": "18012903892325475989"
     },
     "user_tz": -540
    },
    "id": "rlL7iESBz4qN",
    "outputId": "1f31dc47-883d-4c92-8a88-203683bed95b"
   },
   "outputs": [
    {
     "name": "stdout",
     "output_type": "stream",
     "text": [
      "Categorical Columns: \n",
      "[]\n",
      "\n",
      " Numeric Columns: \n",
      "['fiberID', 'psfMag_u', 'psfMag_g', 'psfMag_r', 'psfMag_i', 'psfMag_z', 'fiberMag_u', 'fiberMag_g', 'fiberMag_r', 'fiberMag_i', 'fiberMag_z', 'petroMag_u', 'petroMag_g', 'petroMag_r', 'petroMag_i', 'petroMag_z', 'modelMag_u', 'modelMag_g', 'modelMag_r', 'modelMag_i', 'modelMag_z']\n",
      "\n"
     ]
    }
   ],
   "source": [
    "# DF.info에서 Object type을 가진 컬럼은 모두 범주형 변수\n",
    "# Python 내장 함수 zip은 2개의 리스트를 묶어 병렬로 사용할 수 있도록 해줍니다.\n",
    "# data.dtypes에 들어있는 각 컬럼의 type 값이 'O'이면 범주형 변수이므로 해당 값이 'O'인 경우 범주형 컬럼 리스트에 추가합니다.\n",
    "cat_columns = [c for c, t in zip(data.dtypes.index, data.dtypes) if t == 'O'] \n",
    "num_columns = [c for c in data.columns if c not in cat_columns]\n",
    "\n",
    "print('Categorical Columns: \\n{}\\n\\n Numeric Columns: \\n{}\\n'.format(cat_columns, num_columns))"
   ]
  },
  {
   "cell_type": "markdown",
   "metadata": {
    "id": "LB81xWj-8HJ1"
   },
   "source": [
    "#### 1. 전처리\n",
    "- 2주차 과제 전처리 코드\n",
    "    - 4주차 강의 자료와 동일하게 전처리 코드는 함수로 작성하셔야합니다."
   ]
  },
  {
   "cell_type": "code",
   "execution_count": null,
   "metadata": {
    "id": "snL7RcToz4qT"
   },
   "outputs": [],
   "source": [
    "from sklearn.preprocessing import LabelEncoder\n",
    "\n",
    "le = LabelEncoder()\n",
    "le.fit(label)\n",
    "y_train = le.transform(label)"
   ]
  },
  {
   "cell_type": "code",
   "execution_count": null,
   "metadata": {
    "id": "Jg7PL_G3z4qW"
   },
   "outputs": [],
   "source": [
    "from sklearn.preprocessing import StandardScaler\n",
    "\n",
    "# 2주차 과제 전처리 함수\n",
    "def preprocess_2nd(x_train, x_valid, x_test):\n",
    "    tmp_x_train = x_train.copy()\n",
    "    tmp_x_valid = x_valid.copy()\n",
    "    tmp_x_test  = x_test.copy()\n",
    "    \n",
    "    tmp_x_train = tmp_x_train.reset_index(drop=True)\n",
    "    tmp_x_valid = tmp_x_valid.reset_index(drop=True)\n",
    "    \n",
    "    scaler = StandardScaler()\n",
    "    scaler.fit(tmp_x_train[num_columns])\n",
    "    \n",
    "    tmp_x_train[num_columns] = scaler.transform(tmp_x_train[num_columns])\n",
    "    tmp_x_valid[num_columns] = scaler.transform(tmp_x_valid[num_columns])\n",
    "    tmp_x_test[num_columns]  = scaler.transform(tmp_x_test[num_columns])\n",
    "    \n",
    "    return tmp_x_train, tmp_x_valid, tmp_x_test"
   ]
  },
  {
   "cell_type": "markdown",
   "metadata": {
    "id": "wvU9q9rJ8HJ7"
   },
   "source": [
    "#### 2. 모델 검증 + OOF 앙상블\n",
    "- 2주차 과제 모델 사용 코드에서 XGBoost, LightGBM 2개 모델만 사용해서 모델을 검증하고, 그 중 좋은 모델을 선택하여 OOF 앙상블을 해보세요."
   ]
  },
  {
   "cell_type": "code",
   "execution_count": null,
   "metadata": {
    "id": "SfKUk4caz4qa"
   },
   "outputs": [],
   "source": [
    "from sklearn.model_selection import StratifiedKFold# KFold일지 StratifiedKFold를 사용해야하는지 고민해보세요.\n",
    "n_splits = 5\n",
    "skf = StratifiedKFold(n_splits=n_splits, shuffle=True, random_state=2020)"
   ]
  },
  {
   "cell_type": "code",
   "execution_count": null,
   "metadata": {
    "colab": {
     "base_uri": "https://localhost:8080/",
     "height": 395
    },
    "executionInfo": {
     "elapsed": 67047,
     "status": "ok",
     "timestamp": 1601099053940,
     "user": {
      "displayName": "강천성",
      "photoUrl": "https://lh3.googleusercontent.com/a-/AOh14Gj9h7jy2JWinqHgWl1L0Kch2BjrDvQN5LwdzDMxIw=s64",
      "userId": "18012903892325475989"
     },
     "user_tz": -540
    },
    "id": "wPTvxQDUz4qd",
    "outputId": "0c864f16-bc87-4523-80bb-d29639f95cec"
   },
   "outputs": [
    {
     "name": "stdout",
     "output_type": "stream",
     "text": [
      "[0]\tvalidation_0-mlogloss:2.38819\n",
      "Will train until validation_0-mlogloss hasn't improved in 100 rounds.\n",
      "[99]\tvalidation_0-mlogloss:0.49955\n",
      "0 Fold, train Log Loss : 0.48024, validation Log Loss : 0.4995\n",
      "[0]\tvalidation_0-mlogloss:2.38578\n",
      "Will train until validation_0-mlogloss hasn't improved in 100 rounds.\n",
      "[99]\tvalidation_0-mlogloss:0.501067\n",
      "1 Fold, train Log Loss : 0.47974, validation Log Loss : 0.5011\n",
      "[0]\tvalidation_0-mlogloss:2.38479\n",
      "Will train until validation_0-mlogloss hasn't improved in 100 rounds.\n",
      "[99]\tvalidation_0-mlogloss:0.492217\n",
      "2 Fold, train Log Loss : 0.48334, validation Log Loss : 0.4922\n",
      "[0]\tvalidation_0-mlogloss:2.38541\n",
      "Will train until validation_0-mlogloss hasn't improved in 100 rounds.\n",
      "[99]\tvalidation_0-mlogloss:0.495612\n",
      "3 Fold, train Log Loss : 0.48144, validation Log Loss : 0.4956\n",
      "[0]\tvalidation_0-mlogloss:2.38581\n",
      "Will train until validation_0-mlogloss hasn't improved in 100 rounds.\n",
      "[99]\tvalidation_0-mlogloss:0.498949\n",
      "4 Fold, train Log Loss : 0.48174, validation Log Loss : 0.4989\n",
      "Cross Validation Score : 0.4975\n"
     ]
    }
   ],
   "source": [
    "from sklearn.metrics import log_loss\n",
    "from xgboost import XGBClassifier\n",
    "\n",
    "val_scores = list()\n",
    "oof_pred = np.zeros((test.shape[0], le.classes_.shape[0]))\n",
    "\n",
    "for i, (trn_idx, val_idx) in enumerate(skf.split(data, label)):\n",
    "    x_train, y_train = data.iloc[trn_idx, :], label[trn_idx]\n",
    "    x_valid, y_valid = data.iloc[val_idx, :], label[val_idx]\n",
    "    \n",
    "    # 전처리\n",
    "    x_train, x_valid, x_test = preprocess_2nd(x_train, x_valid, test)\n",
    "    \n",
    "    # 모델 정의\n",
    "    clf = XGBClassifier(n_estimators=100,\n",
    "                        random_state=2020,\n",
    "                        tree_method='gpu_hist',\n",
    "                        n_jobs=2)\n",
    "    \n",
    "    # 모델 학습\n",
    "    clf.fit(x_train, y_train,\n",
    "            eval_set = [[x_valid, y_valid]], # eval_metric으로 평가할 평가 데이터 입니다.\n",
    "            eval_metric = 'mlogloss',                  # 평가에 맞는 메트릭 함수 ex) log_loss, f1_score (주의 괄호 치지 말고 넣으세요, log_loss()[x] log_loss [o])\n",
    "            early_stopping_rounds = 100,        # 얼마나 기다릴지에 대한 횟수, 주로 500, 1000 정도합니다.\n",
    "            verbose = 100,  )\n",
    "\n",
    "    # 훈련, 검증 데이터 Log Loss 확인\n",
    "    trn_logloss = log_loss(y_train, clf.predict_proba(x_train))\n",
    "    val_logloss = log_loss(y_valid, clf.predict_proba(x_valid))\n",
    "    print('{} Fold, train Log Loss : {:.4f}4, validation Log Loss : {:.4f}'.format(i, trn_logloss, val_logloss))\n",
    "    \n",
    "    val_scores.append(val_logloss)\n",
    "    \n",
    "    # Log Loss니까 각 행의 확률 값의 합은 1이 되어야 합니다. 그냥 더하시면 확률 값의 합은 k만큼 되겠죠?\n",
    "    oof_pred += clf.predict_proba(x_test) / n_splits\n",
    "    \n",
    "\n",
    "# 교차 검증 Log Loss 평균 계산하기\n",
    "print('Cross Validation Score : {:.4f}'.format(np.mean(val_scores)))"
   ]
  },
  {
   "cell_type": "markdown",
   "metadata": {
    "id": "LrfEWs7tz4qi"
   },
   "source": [
    "#### 3. 제출 파일 생성 및 제출해보기\n",
    "주어진 `sample_submission.csv` 파일의 규칙에 맞게 결과 파일을 생성하고,<br>\n",
    "[다음 페이지](https://newfront.dacon.io/competitions/official/235573/overview/)에 들어가 결과를 제출해보세요."
   ]
  },
  {
   "cell_type": "code",
   "execution_count": null,
   "metadata": {
    "id": "uYQ2Rr1fz4qi"
   },
   "outputs": [],
   "source": [
    "# 주석 해제 후 진행하시면 됩니다.\n",
    "submit_path = join('/content/drive/My Drive/[2020_08]LearningSpoons_ML/data', join('MDC02', 'sample_submission.csv'))\n",
    "submit = pd.read_csv(submit_path)"
   ]
  },
  {
   "cell_type": "code",
   "execution_count": null,
   "metadata": {
    "colab": {
     "base_uri": "https://localhost:8080/",
     "height": 224
    },
    "executionInfo": {
     "elapsed": 66557,
     "status": "ok",
     "timestamp": 1600952346860,
     "user": {
      "displayName": "강천성",
      "photoUrl": "https://lh3.googleusercontent.com/a-/AOh14GhGWxKuzieaUUPNBfKVZCNiPhjSEf53cibYmSG5Bw=s64",
      "userId": "18012903892325475989"
     },
     "user_tz": -540
    },
    "id": "obxqdkq-z4qm",
    "outputId": "0a910bf6-3afd-4c2f-a4ea-ecc8371d0d1c"
   },
   "outputs": [
    {
     "data": {
      "text/html": [
       "<div>\n",
       "<style scoped>\n",
       "    .dataframe tbody tr th:only-of-type {\n",
       "        vertical-align: middle;\n",
       "    }\n",
       "\n",
       "    .dataframe tbody tr th {\n",
       "        vertical-align: top;\n",
       "    }\n",
       "\n",
       "    .dataframe thead th {\n",
       "        text-align: right;\n",
       "    }\n",
       "</style>\n",
       "<table border=\"1\" class=\"dataframe\">\n",
       "  <thead>\n",
       "    <tr style=\"text-align: right;\">\n",
       "      <th></th>\n",
       "      <th>id</th>\n",
       "      <th>STAR_WHITE_DWARF</th>\n",
       "      <th>STAR_CATY_VAR</th>\n",
       "      <th>STAR_BROWN_DWARF</th>\n",
       "      <th>SERENDIPITY_RED</th>\n",
       "      <th>REDDEN_STD</th>\n",
       "      <th>STAR_BHB</th>\n",
       "      <th>GALAXY</th>\n",
       "      <th>SERENDIPITY_DISTANT</th>\n",
       "      <th>QSO</th>\n",
       "      <th>SKY</th>\n",
       "      <th>STAR_RED_DWARF</th>\n",
       "      <th>ROSAT_D</th>\n",
       "      <th>STAR_PN</th>\n",
       "      <th>SERENDIPITY_FIRST</th>\n",
       "      <th>STAR_CARBON</th>\n",
       "      <th>SPECTROPHOTO_STD</th>\n",
       "      <th>STAR_SUB_DWARF</th>\n",
       "      <th>SERENDIPITY_MANUAL</th>\n",
       "      <th>SERENDIPITY_BLUE</th>\n",
       "    </tr>\n",
       "  </thead>\n",
       "  <tbody>\n",
       "    <tr>\n",
       "      <th>0</th>\n",
       "      <td>199991</td>\n",
       "      <td>0.0</td>\n",
       "      <td>0.0</td>\n",
       "      <td>0.0</td>\n",
       "      <td>0.0</td>\n",
       "      <td>0.0</td>\n",
       "      <td>0.0</td>\n",
       "      <td>0.0</td>\n",
       "      <td>0.0</td>\n",
       "      <td>0.0</td>\n",
       "      <td>0.0</td>\n",
       "      <td>0.0</td>\n",
       "      <td>0.0</td>\n",
       "      <td>0.0</td>\n",
       "      <td>0.0</td>\n",
       "      <td>0.0</td>\n",
       "      <td>0.0</td>\n",
       "      <td>0.0</td>\n",
       "      <td>0.0</td>\n",
       "      <td>0.0</td>\n",
       "    </tr>\n",
       "    <tr>\n",
       "      <th>1</th>\n",
       "      <td>199992</td>\n",
       "      <td>0.0</td>\n",
       "      <td>0.0</td>\n",
       "      <td>0.0</td>\n",
       "      <td>0.0</td>\n",
       "      <td>0.0</td>\n",
       "      <td>0.0</td>\n",
       "      <td>0.0</td>\n",
       "      <td>0.0</td>\n",
       "      <td>0.0</td>\n",
       "      <td>0.0</td>\n",
       "      <td>0.0</td>\n",
       "      <td>0.0</td>\n",
       "      <td>0.0</td>\n",
       "      <td>0.0</td>\n",
       "      <td>0.0</td>\n",
       "      <td>0.0</td>\n",
       "      <td>0.0</td>\n",
       "      <td>0.0</td>\n",
       "      <td>0.0</td>\n",
       "    </tr>\n",
       "    <tr>\n",
       "      <th>2</th>\n",
       "      <td>199993</td>\n",
       "      <td>0.0</td>\n",
       "      <td>0.0</td>\n",
       "      <td>0.0</td>\n",
       "      <td>0.0</td>\n",
       "      <td>0.0</td>\n",
       "      <td>0.0</td>\n",
       "      <td>0.0</td>\n",
       "      <td>0.0</td>\n",
       "      <td>0.0</td>\n",
       "      <td>0.0</td>\n",
       "      <td>0.0</td>\n",
       "      <td>0.0</td>\n",
       "      <td>0.0</td>\n",
       "      <td>0.0</td>\n",
       "      <td>0.0</td>\n",
       "      <td>0.0</td>\n",
       "      <td>0.0</td>\n",
       "      <td>0.0</td>\n",
       "      <td>0.0</td>\n",
       "    </tr>\n",
       "    <tr>\n",
       "      <th>3</th>\n",
       "      <td>199994</td>\n",
       "      <td>0.0</td>\n",
       "      <td>0.0</td>\n",
       "      <td>0.0</td>\n",
       "      <td>0.0</td>\n",
       "      <td>0.0</td>\n",
       "      <td>0.0</td>\n",
       "      <td>0.0</td>\n",
       "      <td>0.0</td>\n",
       "      <td>0.0</td>\n",
       "      <td>0.0</td>\n",
       "      <td>0.0</td>\n",
       "      <td>0.0</td>\n",
       "      <td>0.0</td>\n",
       "      <td>0.0</td>\n",
       "      <td>0.0</td>\n",
       "      <td>0.0</td>\n",
       "      <td>0.0</td>\n",
       "      <td>0.0</td>\n",
       "      <td>0.0</td>\n",
       "    </tr>\n",
       "    <tr>\n",
       "      <th>4</th>\n",
       "      <td>199995</td>\n",
       "      <td>0.0</td>\n",
       "      <td>0.0</td>\n",
       "      <td>0.0</td>\n",
       "      <td>0.0</td>\n",
       "      <td>0.0</td>\n",
       "      <td>0.0</td>\n",
       "      <td>0.0</td>\n",
       "      <td>0.0</td>\n",
       "      <td>0.0</td>\n",
       "      <td>0.0</td>\n",
       "      <td>0.0</td>\n",
       "      <td>0.0</td>\n",
       "      <td>0.0</td>\n",
       "      <td>0.0</td>\n",
       "      <td>0.0</td>\n",
       "      <td>0.0</td>\n",
       "      <td>0.0</td>\n",
       "      <td>0.0</td>\n",
       "      <td>0.0</td>\n",
       "    </tr>\n",
       "  </tbody>\n",
       "</table>\n",
       "</div>"
      ],
      "text/plain": [
       "       id  STAR_WHITE_DWARF  ...  SERENDIPITY_MANUAL  SERENDIPITY_BLUE\n",
       "0  199991               0.0  ...                 0.0               0.0\n",
       "1  199992               0.0  ...                 0.0               0.0\n",
       "2  199993               0.0  ...                 0.0               0.0\n",
       "3  199994               0.0  ...                 0.0               0.0\n",
       "4  199995               0.0  ...                 0.0               0.0\n",
       "\n",
       "[5 rows x 20 columns]"
      ]
     },
     "execution_count": 11,
     "metadata": {
      "tags": []
     },
     "output_type": "execute_result"
    }
   ],
   "source": [
    "submit.head()"
   ]
  },
  {
   "cell_type": "code",
   "execution_count": null,
   "metadata": {
    "id": "JDVyp9z4z4qo"
   },
   "outputs": [],
   "source": [
    "# pred 변수는 반드시 각 클래스의 확률 값을 가지고 있어야 합니다. 라벨 변수인 type 변수는 반드시 LabelEncoder를 사용해 라벨 인코딩을 진행합니다.\n",
    "# 각 클래스를 예측한 확률 값은 가진 pred Numpy array와 LabelEncoder 객체의 .classes_ 속성을 이용해 df_pred DataFrame을 생성합니다.\n",
    "df_pred = pd.DataFrame(oof_pred, columns=le.classes_)\n",
    "\n",
    "# submit DataFrame의 컬럼을 가지고 df_pred DataFrame을 컬럼 인덱싱 하여 맞는 컬럼에 값을 집어 넣습니다.\n",
    "# 지정한 파일 이름으로 결과가 csv 파일로 저장됩니다. index=False 조건은 csv 출력 시 인덱스도 같이 출력할 것인지를 지정하는 값인데, 인덱스는 필요없으니 False로 놓습니다.\n",
    "submit_file_name = 'first_submit.csv'\n",
    "submit.loc[:, submit.columns[1:]] = df_pred[submit.columns[1:]]\n",
    "# submit.to_csv(submit_file_name, index=False)"
   ]
  },
  {
   "cell_type": "markdown",
   "metadata": {
    "id": "n689on4Oz4qr"
   },
   "source": [
    "----------"
   ]
  },
  {
   "cell_type": "markdown",
   "metadata": {
    "id": "jjY9l3Arz4qr"
   },
   "source": [
    "## 월간 데이콘 1회 (회귀, 3주차 과제 ~ )\n",
    "\n",
    "#### 사용할 데이터 경로\n",
    "1. data/MDC01/..."
   ]
  },
  {
   "cell_type": "code",
   "execution_count": null,
   "metadata": {
    "id": "l5-7eXLJz4qs"
   },
   "outputs": [],
   "source": [
    "import warnings\n",
    "\n",
    "warnings.filterwarnings(action='ignore')\n",
    "\n",
    "from os.path import join\n",
    "import pandas as pd\n",
    "import numpy  as np\n",
    "\n",
    "# 주석 해제 후 진행하시면 됩니다.\n",
    "data = pd.read_csv(join('/content/drive/My Drive/[2020_08]LearningSpoons_ML/data', join('MDC01', 'train.csv')))\n",
    "test = pd.read_csv(join('/content/drive/My Drive/[2020_08]LearningSpoons_ML/data', join('MDC01', 'test.csv')))\n",
    "\n",
    "label = data[['layer_1', 'layer_2', 'layer_3', 'layer_4']]\n",
    "\n",
    "data.drop(columns=['layer_1', 'layer_2', 'layer_3', 'layer_4'], inplace=True)\n",
    "test.drop(columns=['id'], inplace=True)"
   ]
  },
  {
   "cell_type": "code",
   "execution_count": null,
   "metadata": {
    "colab": {
     "base_uri": "https://localhost:8080/",
     "height": 145
    },
    "executionInfo": {
     "elapsed": 62290,
     "status": "ok",
     "timestamp": 1601100125204,
     "user": {
      "displayName": "강천성",
      "photoUrl": "https://lh3.googleusercontent.com/a-/AOh14Gj9h7jy2JWinqHgWl1L0Kch2BjrDvQN5LwdzDMxIw=s64",
      "userId": "18012903892325475989"
     },
     "user_tz": -540
    },
    "id": "iQBCUQP6z4qv",
    "outputId": "edc51e8f-c2fe-4c95-978e-481cf0f15d81"
   },
   "outputs": [
    {
     "name": "stdout",
     "output_type": "stream",
     "text": [
      "Categorical Columns: \n",
      "[]\n",
      "\n",
      " Numeric Columns: \n",
      "['0', '1', '2', '3', '4', '5', '6', '7', '8', '9', '10', '11', '12', '13', '14', '15', '16', '17', '18', '19', '20', '21', '22', '23', '24', '25', '26', '27', '28', '29', '30', '31', '32', '33', '34', '35', '36', '37', '38', '39', '40', '41', '42', '43', '44', '45', '46', '47', '48', '49', '50', '51', '52', '53', '54', '55', '56', '57', '58', '59', '60', '61', '62', '63', '64', '65', '66', '67', '68', '69', '70', '71', '72', '73', '74', '75', '76', '77', '78', '79', '80', '81', '82', '83', '84', '85', '86', '87', '88', '89', '90', '91', '92', '93', '94', '95', '96', '97', '98', '99', '100', '101', '102', '103', '104', '105', '106', '107', '108', '109', '110', '111', '112', '113', '114', '115', '116', '117', '118', '119', '120', '121', '122', '123', '124', '125', '126', '127', '128', '129', '130', '131', '132', '133', '134', '135', '136', '137', '138', '139', '140', '141', '142', '143', '144', '145', '146', '147', '148', '149', '150', '151', '152', '153', '154', '155', '156', '157', '158', '159', '160', '161', '162', '163', '164', '165', '166', '167', '168', '169', '170', '171', '172', '173', '174', '175', '176', '177', '178', '179', '180', '181', '182', '183', '184', '185', '186', '187', '188', '189', '190', '191', '192', '193', '194', '195', '196', '197', '198', '199', '200', '201', '202', '203', '204', '205', '206', '207', '208', '209', '210', '211', '212', '213', '214', '215', '216', '217', '218', '219', '220', '221', '222', '223', '224', '225']\n",
      "\n"
     ]
    }
   ],
   "source": [
    "# DF.info에서 Object type을 가진 컬럼은 모두 범주형 변수\n",
    "# Python 내장 함수 zip은 2개의 리스트를 묶어 병렬로 사용할 수 있도록 해줍니다.\n",
    "# data.dtypes에 들어있는 각 컬럼의 type 값이 'O'이면 범주형 변수이므로 해당 값이 'O'인 경우 범주형 컬럼 리스트에 추가합니다.\n",
    "cat_columns = [c for c, t in zip(data.dtypes.index, data.dtypes) if t == 'O'] \n",
    "num_columns = [c for c in data.columns if c not in cat_columns]\n",
    "\n",
    "print('Categorical Columns: \\n{}\\n\\n Numeric Columns: \\n{}\\n'.format(cat_columns, num_columns))"
   ]
  },
  {
   "cell_type": "markdown",
   "metadata": {
    "id": "2L4L4GrGz4qy"
   },
   "source": [
    "#### 1. 전처리\n",
    "- 3주차 과제 전처리 코드\n",
    "    - 4주차 강의 자료와 동일하게 전처리 코드는 함수로 작성하셔야합니다."
   ]
  },
  {
   "cell_type": "code",
   "execution_count": null,
   "metadata": {
    "id": "5BpjkibRz4qz"
   },
   "outputs": [],
   "source": [
    "from sklearn.preprocessing import StandardScaler\n",
    "\n",
    "# 3주차 과제 전처리 함수\n",
    "def preprocess_3nd(x_train, x_valid, x_test):\n",
    "    tmp_x_train = x_train.copy()\n",
    "    tmp_x_valid = x_valid.copy()\n",
    "    tmp_x_test  = x_test.copy()\n",
    "    \n",
    "    tmp_x_train = tmp_x_train.reset_index(drop=True)\n",
    "    tmp_x_valid = tmp_x_valid.reset_index(drop=True)\n",
    "    \n",
    "    scaler = StandardScaler()\n",
    "    scaler.fit(tmp_x_train[num_columns])\n",
    "    \n",
    "    tmp_x_train[num_columns] = scaler.transform(tmp_x_train[num_columns])\n",
    "    tmp_x_valid[num_columns] = scaler.transform(tmp_x_valid[num_columns])\n",
    "    tmp_x_test[num_columns]  = scaler.transform(tmp_x_test[num_columns])\n",
    "    \n",
    "    return tmp_x_train, tmp_x_valid, tmp_x_test"
   ]
  },
  {
   "cell_type": "markdown",
   "metadata": {
    "id": "SSTXGASXz4q3"
   },
   "source": [
    "#### 2. 모델 검증 + OOF 앙상블\n",
    "- 3주차 과제 모델 사용 코드에서 XGBoost, LightGBM 2개 모델만 사용해서 모델을 검증하고, 그 중 좋은 모델을 선택하여 OOF 앙상블을 해보세요.\n",
    "    - 가능하다면 코랩 환경에서 GPU 연산으로 해보시길 추천드립니다."
   ]
  },
  {
   "cell_type": "markdown",
   "metadata": {
    "id": "Zj7TKT3qz4q3"
   },
   "source": [
    "#### 2-1. Scikit-learn API, MultiOutPutModel\n",
    "- 3주차 과제에서는 4개 라벨에 대해 4개의 모델을 생성했습니다. Scikit-learn에서 지원하는 MuliOutputModel 클래스를 사용하면 코드 작성은 모델 하나지만, 실제로는 여러개의 모델을 학습할 수 있습니다.  \n",
    "    \n",
    "        예제 코드)\n",
    "        from sklearn.multioutput import MultiOutputRegressor\n",
    "        model = MultiOutputRegressor(RandomForest())\n",
    "        model.fit(x_train, y_train)     # 여기에서 y_train은 layer_1, layer_2, layer_3, layer_4로 구성된 4개 컬럼을 가진 DataFrame 입니다.\n",
    "        y_pred = model.predict(x_valid) # y_pred는 (x_valid 행의 수, 라벨의 수)로 이루어진 출력이 나오게 됩니다. \n",
    "        \n",
    "        \n",
    "- 하지만, 이 기능을 사용하면 XGBoost나 LightGBM의 Early Stopping 기능을 사용할 수 없으므로, 좋다고 생각하는 방식으로 작성하세요.\n",
    "    - 좋은 성능을 내려면 당연히 각 라벨에 대해 따로따로 만드셔야합니다."
   ]
  },
  {
   "cell_type": "code",
   "execution_count": null,
   "metadata": {
    "id": "6iM8EJ0-z4q4"
   },
   "outputs": [],
   "source": [
    "from sklearn.model_selection import KFold # KFold일지 StratifiedKFold를 사용해야하는지 고민해보세요.\n",
    "kf = KFold(n_splits=5, shuffle=True, random_state=2020)#회귀 문제이니깐 stratify k fold를 쓸 필요가 없다"
   ]
  },
  {
   "cell_type": "code",
   "execution_count": null,
   "metadata": {
    "id": "-7bP38MZz4q7"
   },
   "outputs": [],
   "source": [
    "from sklearn.metrics import mean_absolute_error\n",
    "from sklearn.multioutput import MultiOutputRegresso\n",
    "val_scores = list()\n",
    "oof_pred = np.zeros((test.shape[0], label.shape[1]))\n",
    "\n",
    "for i, (trn_idx, val_idx) in enumerate(kf.split(data, label)):\n",
    "    x_train, y_train = data.iloc[trn_idx, :], label.iloc[trn_idx, :]\n",
    "    x_valid, y_valid = data.iloc[val_idx, :], label.iloc[val_idx, :]\n",
    "    \n",
    "    # 전처리\n",
    "    x_train, x_valid, x_test = preprocess_3nd(x_train, x_valid, test)\n",
    "    \n",
    "    # 모델 정의\n",
    "    regr = MultiOutputRegressor(XGBRegressor(random_state=2020,\n",
    "                                             tree_method='gpu_hist',\n",
    "                                             n_jobs=2))\n",
    "    \n",
    "    # 모델 학습\n",
    "    regr.fit(x_train, y_train)#, **params)\n",
    "\n",
    "    # 훈련, 검증 데이터 MAE 확인\n",
    "    trn_pred, val_pred = regr.predict(x_train), regr.predict(x_valid)\n",
    "    trn_mae = np.mean([mean_absolute_error(y_train.iloc[:, i], trn_pred[:, i]) for i in range(4)])\n",
    "    val_mae = np.mean([mean_absolute_error(y_valid.iloc[:, i], val_pred[:, i]) for i in range(4)])\n",
    "    print('{} Fold, train MAE : {:.4f}4, validation MAE : {:.4f}'.format(i, trn_mae, val_mae))\n",
    "    \n",
    "    val_scores.append(val_mae)\n",
    "    \n",
    "    # MAE니까 Fold 전체의 평균으로 만들어야겠죠?\n",
    "    oof_pred += regr.predict(x_test) / 5\n",
    "    \n",
    "\n",
    "# 교차 검증 Log Loss 평균 계산하기\n",
    "print('Cross Validation Score : {:.4f}'.format(np.mean(val_scores)))"
   ]
  },
  {
   "cell_type": "markdown",
   "metadata": {
    "id": "IJvqWiQC8HJ_"
   },
   "source": [
    "#### 3. 제출 파일 생성 및 제출해보기\n",
    "주어진 `sample_submission.csv` 파일의 규칙에 맞게 결과 파일을 생성하고,<br>\n",
    "[다음 페이지](https://newfront.dacon.io/competitions/official/235554/overview/)에 들어가 결과를 제출해보세요."
   ]
  },
  {
   "cell_type": "code",
   "execution_count": null,
   "metadata": {
    "id": "WbvM5gcY8HKA"
   },
   "outputs": [],
   "source": [
    "# 주석 해제 후 진행하시면 됩니다.\n",
    "submit_path = join('/content/drive/My Drive/[2020_08]LearningSpoons_ML/data', join('MDC01', 'sample_submission.csv'))\n",
    "submit = pd.read_csv(submit_path)"
   ]
  },
  {
   "cell_type": "code",
   "execution_count": null,
   "metadata": {
    "id": "fJ7R8QGyz4rB"
   },
   "outputs": [],
   "source": [
    "y_test_layer1 = oof_pred[:, 0]\n",
    "y_test_layer2 = oof_pred[:, 1]\n",
    "y_test_layer3 = oof_pred[:, 2]\n",
    "y_test_layer4 = oof_pred[:, 3]"
   ]
  },
  {
   "cell_type": "code",
   "execution_count": null,
   "metadata": {
    "id": "FZBe-K8J8HKD"
   },
   "outputs": [],
   "source": [
    "# y_test_layer_1, y_test_layer_2, y_test_layer_3, y_test_layer_4는 가장 성능이 좋은 모델의 4개 라벨에 대한 예측 값을 담고 있습니다.\n",
    "submit['layer_1'] = y_test_layer1\n",
    "submit['layer_2'] = y_test_layer2\n",
    "submit['layer_3'] = y_test_layer3\n",
    "submit['layer_4'] = y_test_layer4\n",
    "\n",
    "# 지정한 파일 이름으로 결과가 csv 파일로 저장됩니다. index=False 조건은 csv 출력 시 인덱스도 같이 출력할 것인지를 지정하는 값인데, 인덱스는 필요없으니 False로 놓습니다.\n",
    "submit_file_name = 'first_submit.csv'\n",
    "# submit.to_csv(submit_file_name, index=False)"
   ]
  }
 ],
 "metadata": {
  "accelerator": "GPU",
  "colab": {
   "collapsed_sections": [],
   "name": "HW_04_TA.ipynb",
   "provenance": []
  },
  "kernelspec": {
   "display_name": "Python 3",
   "language": "python",
   "name": "python3"
  },
  "language_info": {
   "codemirror_mode": {
    "name": "ipython",
    "version": 3
   },
   "file_extension": ".py",
   "mimetype": "text/x-python",
   "name": "python",
   "nbconvert_exporter": "python",
   "pygments_lexer": "ipython3",
   "version": "3.7.7"
  }
 },
 "nbformat": 4,
 "nbformat_minor": 4
}
